{
 "cells": [
  {
   "attachments": {},
   "cell_type": "markdown",
   "metadata": {},
   "source": [
    "# Setups"
   ]
  },
  {
   "cell_type": "code",
   "execution_count": 32,
   "metadata": {},
   "outputs": [],
   "source": [
    "# import modules \n",
    "import numpy as np\n",
    "import pandas as pd\n",
    "import os, sys\n",
    "import matplotlib.pyplot as plt"
   ]
  },
  {
   "cell_type": "code",
   "execution_count": 29,
   "metadata": {},
   "outputs": [
    {
     "data": {
      "text/plain": [
       "['xH_nohalos_z008.00_nf0.199022_eff2720.3_effPLindex0_HIIfilter1_Mmin1.0e+11_RHIImax50_1024_1600Mpc_muv_r_short',\n",
       " 'xH_nohalos_z008.00_nf0.499813_eff1638.5_effPLindex0_HIIfilter1_Mmin1.0e+11_RHIImax50_1024_1600Mpc_muv_r_short',\n",
       " 'xH_nohalos_z008.00_nf0.695461_eff1092.6_effPLindex0_HIIfilter1_Mmin1.0e+11_RHIImax50_1024_1600Mpc_muv_r_short',\n",
       " 'xH_nohalos_z008.00_nf0.399706_eff1936.8_effPLindex0_HIIfilter1_Mmin1.0e+11_RHIImax50_1024_1600Mpc_muv_r_short',\n",
       " 'xH_nohalos_z008.00_nf0.097615_eff3444.2_effPLindex0_HIIfilter1_Mmin1.0e+11_RHIImax50_1024_1600Mpc_muv_r_short',\n",
       " 'xH_nohalos_z008.00_nf0.299324_eff2279.2_effPLindex0_HIIfilter1_Mmin1.0e+11_RHIImax50_1024_1600Mpc_muv_r_short',\n",
       " 'xH_nohalos_z008.00_nf0.591873_eff1381.7_effPLindex0_HIIfilter1_Mmin1.0e+11_RHIImax50_1024_1600Mpc_muv_r_short',\n",
       " 'xH_nohalos_z008.00_nf0.796971_eff790.3_effPLindex0_HIIfilter1_Mmin1.0e+11_RHIImax50_1024_1600Mpc_muv_r_short',\n",
       " 'xH_nohalos_z008.00_nf0.898362_eff441.5_effPLindex0_HIIfilter1_Mmin1.0e+11_RHIImax50_1024_1600Mpc_muv_r_short']"
      ]
     },
     "execution_count": 29,
     "metadata": {},
     "output_type": "execute_result"
    }
   ],
   "source": [
    "# path setup\n",
    "datadir = '../../bubble_sizes/Rbubble_lists/bubble_sim_final/'    # Path to the directory containing the bubble lists\n",
    "dir_bg_z8_muv=datadir+'bg_muv_z8/'  # dir for galaxy bubble list [Muv-Rbub] of rapid reionization model (bg), z=8, xHI=0.1-0.9\n",
    "dir_fg_z8_muv=datadir+'fg_muv_z8/'  # dir for galaxy bubble list [Muv-Rbub] of gradual reionization model (fg), z=8, xHI=0.1-0.9\n",
    "dir_bg_z8_od=datadir+'bg_od_z8/' # dir for overdensity bubble list [overdensity-Rbub]\n",
    "dir_fg_z8_od=datadir+'fg_od_z8/'\n",
    "dir_bg_z8_rall=datadir+'bg_rall_z8/' # dir for full box bubble list [Rbub]\n",
    "dir_fg_z8_rall=datadir+'fg_rall_z8/'\n",
    "os.listdir(dir_bg_z8_muv) # try to list the files in the directory"
   ]
  },
  {
   "attachments": {},
   "cell_type": "markdown",
   "metadata": {},
   "source": [
    "# Demo"
   ]
  },
  {
   "attachments": {},
   "cell_type": "markdown",
   "metadata": {},
   "source": [
    "## check xHI of bubble lists in a folder"
   ]
  },
  {
   "cell_type": "code",
   "execution_count": 19,
   "metadata": {},
   "outputs": [
    {
     "name": "stdout",
     "output_type": "stream",
     "text": [
      "0.09\n",
      "0.19\n",
      "0.29\n",
      "0.39\n",
      "0.49\n",
      "0.59\n",
      "0.69\n",
      "0.79\n",
      "0.89\n"
     ]
    }
   ],
   "source": [
    "dirin=dir_bg_z8_muv # choose the directory to read\n",
    "for i,fil in enumerate(np.sort(os.listdir(dirin))): # loop over the files in the directory\n",
    "    ind=fil.find('nf') # find the index of the string 'nf'\n",
    "    xHI=float(fil[ind+2:ind+6]) # extract the xHI value from the file name\n",
    "    print(xHI)"
   ]
  },
  {
   "attachments": {},
   "cell_type": "markdown",
   "metadata": {},
   "source": [
    "## read bubble lists "
   ]
  },
  {
   "cell_type": "code",
   "execution_count": 22,
   "metadata": {},
   "outputs": [],
   "source": [
    "# parameter setup\n",
    "models=['bg','fg']\n",
    "zs=[8]"
   ]
  },
  {
   "attachments": {},
   "cell_type": "markdown",
   "metadata": {},
   "source": [
    "### read and plot galaxy Muv-Rbub bubble list"
   ]
  },
  {
   "cell_type": "code",
   "execution_count": 27,
   "metadata": {},
   "outputs": [],
   "source": [
    "muvbublist={} # dictionary to store the bubble lists\n",
    "for mod in models: # loop over reionization models\n",
    "    muvbublist[mod]={} \n",
    "    for z in zs: # loop over redshifts\n",
    "        muvbublist[mod][str(z)]={} \n",
    "        boxdir=vars()['boxdir_'+mod+'_z'+str(z)+'_muv']\n",
    "        boxfils=np.sort(os.listdir(boxdir))\n",
    "\n",
    "        for i,fil in enumerate(boxfils):\n",
    "            ind=fil.find('nf')\n",
    "            xHI=np.round(float(fil[ind+2:ind+6]),1)\n",
    "            #print('reading model '+mod+', z='+str(z)+', xHI='+str(xHI))\n",
    "            data=pd.read_csv(boxdir+fil)\n",
    "            muvbublist[mod][str(z)][str(xHI)]=pd.DataFrame(data=np.vstack((data['Muv'],data['R_cMpc'])).T, columns=['Muv','R_cMpc'])"
   ]
  },
  {
   "attachments": {},
   "cell_type": "markdown",
   "metadata": {},
   "source": [
    "#### Plot bubble size distribution for xHI=0.5, Muv=-18 galaxies "
   ]
  },
  {
   "cell_type": "code",
   "execution_count": 35,
   "metadata": {},
   "outputs": [
    {
     "data": {
      "text/plain": [
       "Text(0, 0.5, 'Bubble size distribution, $\\\\mathrm{dP/dlogR}$')"
      ]
     },
     "execution_count": 35,
     "metadata": {},
     "output_type": "execute_result"
    },
    {
     "data": {
      "image/png": "[encoded data removed]",
      "text/plain": [
       "<Figure size 432x432 with 1 Axes>"
      ]
     },
     "metadata": {
      "needs_background": "light"
     },
     "output_type": "display_data"
    }
   ],
   "source": [
    "z=8\n",
    "xHI=0.5\n",
    "mod='fg' # gradual reionization model\n",
    "\n",
    "df=muvbublist[mod][str(z)][str(xHI)]\n",
    "Muvs=df.Muv \n",
    "Rbubs=df.R_cMpc\n",
    "bins=np.logspace(np.log10(0.8),np.log10(1.1*np.max(Rbubs)),8) # define the bins for the histogram\n",
    "\n",
    "Rbub18=Rbubs[(Muvs>-18.1)&(Muvs<-17.9)] # select the bubble list for Muv=-18\n",
    "\n",
    "\n",
    "\n",
    "PRhist, Rhistedge =np.histogram(Rbub18,density=True,bins=bins)  # calculate the histogram\n",
    "Rhist=0.5*(Rhistedge[:-1] + Rhistedge[1:]) # calculate the bin centers\n",
    "yy=PRhist*Rhist # calculate the y values for the dP/dlogR plot\n",
    "\n",
    "PlogR_norm=yy/np.trapz(yy,x=Rhist) # normalize the distribution\n",
    "\n",
    "# plot the distribution\n",
    "plt.figure(figsize=(6,6))\n",
    "plt.plot(Rhist,PlogR_norm)\n",
    "plt.xscale('log')\n",
    "plt.yscale('log')\n",
    "plt.xlabel(r'Bubble size, R [cMpc]')\n",
    "plt.ylabel(r'Bubble size distribution, $\\mathrm{dP/dlogR}$')\n"
   ]
  },
  {
   "cell_type": "markdown",
   "metadata": {},
   "source": [
    "## read overdensity bubble list"
   ]
  },
  {
   "cell_type": "code",
   "execution_count": 40,
   "metadata": {},
   "outputs": [],
   "source": [
    "odbublist={} # dictionary to store the bubble lists\n",
    "for mod in models: # loop over reionization models\n",
    "    odbublist[mod]={} \n",
    "    for z in zs: # loop over redshifts\n",
    "        odbublist[mod][str(z)]={} \n",
    "        boxdir=vars()['boxdir_'+mod+'_z'+str(z)+'_od']\n",
    "        boxfils=np.sort(os.listdir(boxdir))\n",
    "\n",
    "        for i,fil in enumerate(boxfils):\n",
    "            ind=fil.find('nf')\n",
    "            xHI=np.round(float(fil[ind+2:ind+6]),1)\n",
    "            #print('reading model '+mod+', z='+str(z)+', xHI='+str(xHI))\n",
    "            data=pd.read_csv(boxdir+fil)\n",
    "            odbublist[mod][str(z)][str(xHI)]=pd.DataFrame(data=np.vstack((data['Overdensity'],data['R_cMpc'])).T, columns=['Overdensity','R_cMpc'])"
   ]
  },
  {
   "attachments": {},
   "cell_type": "markdown",
   "metadata": {},
   "source": [
    "### plot overdensity distribution"
   ]
  },
  {
   "cell_type": "code",
   "execution_count": 44,
   "metadata": {},
   "outputs": [
    {
     "data": {
      "image/png": "[encoded data removed]",
      "text/plain": [
       "<Figure size 432x288 with 1 Axes>"
      ]
     },
     "metadata": {
      "needs_background": "light"
     },
     "output_type": "display_data"
    }
   ],
   "source": [
    "df=odbublist['fg']['8']['0.5']\n",
    "plt.hist(df.Overdensity)\n",
    "plt.xlabel('Overdensity, N/<N>')\n",
    "plt.ylabel('Count')\n",
    "plt.yscale('log')"
   ]
  },
  {
   "attachments": {},
   "cell_type": "markdown",
   "metadata": {},
   "source": [
    "## read full box bubble list "
   ]
  },
  {
   "cell_type": "code",
   "execution_count": 47,
   "metadata": {},
   "outputs": [],
   "source": [
    "fullbublist={} # dictionary to store the bubble lists\n",
    "for mod in models: # loop over reionization models\n",
    "    fullbublist[mod]={} \n",
    "    for z in zs: # loop over redshifts\n",
    "        fullbublist[mod][str(z)]={} \n",
    "        boxdir=vars()['boxdir_'+mod+'_z'+str(z)+'_rall']\n",
    "        boxfils=np.sort(os.listdir(boxdir))\n",
    "\n",
    "        for i,fil in enumerate(boxfils):\n",
    "            ind=fil.find('nf')\n",
    "            xHI=np.round(float(fil[ind+2:ind+6]),1)\n",
    "            #print('reading model '+mod+', z='+str(z)+', xHI='+str(xHI))\n",
    "            data=pd.read_csv(boxdir+fil)\n",
    "            fullbublist[mod][str(z)][str(xHI)]=pd.DataFrame(data=(data['R_cMpc']), columns=['R_cMpc'])"
   ]
  },
  {
   "cell_type": "markdown",
   "metadata": {},
   "source": [
    "### plot the bubble size distribution for the full box at xHI=0.5"
   ]
  },
  {
   "cell_type": "code",
   "execution_count": 48,
   "metadata": {},
   "outputs": [
    {
     "data": {
      "text/plain": [
       "Text(0, 0.5, 'Bubble size distribution, $\\\\mathrm{dP/dlogR}$')"
      ]
     },
     "execution_count": 48,
     "metadata": {},
     "output_type": "execute_result"
    },
    {
     "data": {
      "image/png": "[encoded data removed]",
      "text/plain": [
       "<Figure size 432x432 with 1 Axes>"
      ]
     },
     "metadata": {
      "needs_background": "light"
     },
     "output_type": "display_data"
    }
   ],
   "source": [
    "z=8\n",
    "xHI=0.5\n",
    "mod='fg' # gradual reionization model\n",
    "\n",
    "df=fullbublist[mod][str(z)][str(xHI)]\n",
    "Rbubs=df.R_cMpc\n",
    "bins=np.logspace(np.log10(0.8),np.log10(1.1*np.max(Rbubs)),8) # define the bins for the histogram\n",
    "\n",
    "\n",
    "PRhist, Rhistedge =np.histogram(Rbubs,density=True,bins=bins)  # calculate the histogram\n",
    "Rhist=0.5*(Rhistedge[:-1] + Rhistedge[1:]) # calculate the bin centers\n",
    "yy=PRhist*Rhist # calculate the y values for the dP/dlogR plot\n",
    "\n",
    "PlogR_norm=yy/np.trapz(yy,x=Rhist) # normalize the distribution\n",
    "\n",
    "# plot the distribution\n",
    "plt.figure(figsize=(6,6))\n",
    "plt.plot(Rhist,PlogR_norm)\n",
    "plt.xscale('log')\n",
    "plt.yscale('log')\n",
    "plt.xlabel(r'Bubble size, R [cMpc]')\n",
    "plt.ylabel(r'Bubble size distribution, $\\mathrm{dP/dlogR}$')"
   ]
  }
 ],
 "metadata": {
  "kernelspec": {
   "display_name": "reionizer_tyl",
   "language": "python",
   "name": "python3"
  },
  "language_info": {
   "codemirror_mode": {
    "name": "ipython",
    "version": 3
   },
   "file_extension": ".py",
   "mimetype": "text/x-python",
   "name": "python",
   "nbconvert_exporter": "python",
   "pygments_lexer": "ipython3",
   "version": "3.9.12"
  },
  "orig_nbformat": 4
 },
 "nbformat": 4,
 "nbformat_minor": 2
}
