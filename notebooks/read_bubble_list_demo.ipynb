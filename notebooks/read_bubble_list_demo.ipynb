{
 "cells": [
  {
   "attachments": {},
   "cell_type": "markdown",
   "metadata": {},
   "source": [
    "# Setups"
   ]
  },
  {
   "cell_type": "code",
   "execution_count": 1,
   "metadata": {},
   "outputs": [],
   "source": [
    "# import modules \n",
    "import numpy as np\n",
    "import pandas as pd\n",
    "import os, sys\n",
    "import matplotlib.pyplot as plt"
   ]
  },
  {
   "cell_type": "code",
   "execution_count": 10,
   "metadata": {},
   "outputs": [
    {
     "data": {
      "text/plain": [
       "['xH_nohalos_z008.00_nf0.199022_eff2720.3_effPLindex0_HIIfilter1_Mmin1.0e+11_RHIImax50_1024_1600Mpc_muv_r_short',\n",
       " 'xH_nohalos_z008.00_nf0.499813_eff1638.5_effPLindex0_HIIfilter1_Mmin1.0e+11_RHIImax50_1024_1600Mpc_muv_r_short',\n",
       " 'xH_nohalos_z008.00_nf0.695461_eff1092.6_effPLindex0_HIIfilter1_Mmin1.0e+11_RHIImax50_1024_1600Mpc_muv_r_short',\n",
       " 'xH_nohalos_z008.00_nf0.399706_eff1936.8_effPLindex0_HIIfilter1_Mmin1.0e+11_RHIImax50_1024_1600Mpc_muv_r_short',\n",
       " 'xH_nohalos_z008.00_nf0.097615_eff3444.2_effPLindex0_HIIfilter1_Mmin1.0e+11_RHIImax50_1024_1600Mpc_muv_r_short',\n",
       " 'xH_nohalos_z008.00_nf0.299324_eff2279.2_effPLindex0_HIIfilter1_Mmin1.0e+11_RHIImax50_1024_1600Mpc_muv_r_short',\n",
       " 'xH_nohalos_z008.00_nf0.591873_eff1381.7_effPLindex0_HIIfilter1_Mmin1.0e+11_RHIImax50_1024_1600Mpc_muv_r_short',\n",
       " 'xH_nohalos_z008.00_nf0.796971_eff790.3_effPLindex0_HIIfilter1_Mmin1.0e+11_RHIImax50_1024_1600Mpc_muv_r_short',\n",
       " 'xH_nohalos_z008.00_nf0.898362_eff441.5_effPLindex0_HIIfilter1_Mmin1.0e+11_RHIImax50_1024_1600Mpc_muv_r_short']"
      ]
     },
     "execution_count": 10,
     "metadata": {},
     "output_type": "execute_result"
    }
   ],
   "source": [
    "# path setup\n",
    "datadir = '../../bubble_sizes/Rbubble_lists/bubble_sim_final/'    # Path to the directory containing the bubble lists\n",
    "dir_bg_z8_muv=datadir+'bg_muv_z8/'  # dir for galaxy bubble list [Muv-Rbub] of rapid reionization model (bg), z=8, xHI=0.1-0.9\n",
    "dir_fg_z8_muv=datadir+'fg_muv_z8/'  # dir for galaxy bubble list [Muv-Rbub] of gradual reionization model (fg), z=8, xHI=0.1-0.9\n",
    "dir_bg_z8_od=datadir+'bg_od_z8/' # dir for overdensity bubble list [overdensity-Rbub]\n",
    "dir_fg_z8_od=datadir+'fg_od_z8/'\n",
    "dir_bg_z8_rall=datadir+'bg_rall_z8/' # dir for full box bubble list [Rbub]\n",
    "dir_fg_z8_rall=datadir+'fg_rall_z8/'\n",
    "os.listdir(dir_bg_z8_muv) # try to list the files in the directory"
   ]
  },
  {
   "attachments": {},
   "cell_type": "markdown",
   "metadata": {},
   "source": [
    "# Demo"
   ]
  },
  {
   "attachments": {},
   "cell_type": "markdown",
   "metadata": {},
   "source": [
    "## check xHI of bubble lists in a folder"
   ]
  },
  {
   "cell_type": "code",
   "execution_count": 3,
   "metadata": {},
   "outputs": [
    {
     "name": "stdout",
     "output_type": "stream",
     "text": [
      "0.09\n",
      "0.19\n",
      "0.29\n",
      "0.39\n",
      "0.49\n",
      "0.59\n",
      "0.69\n",
      "0.79\n",
      "0.89\n"
     ]
    }
   ],
   "source": [
    "dirin=dir_bg_z8_muv # choose the directory to read\n",
    "for i,fil in enumerate(np.sort(os.listdir(dirin))): # loop over the files in the directory\n",
    "    ind=fil.find('nf') # find the index of the string 'nf'\n",
    "    xHI=float(fil[ind+2:ind+6]) # extract the xHI value from the file name\n",
    "    print(xHI)"
   ]
  },
  {
   "attachments": {},
   "cell_type": "markdown",
   "metadata": {},
   "source": [
    "## read bubble lists "
   ]
  },
  {
   "cell_type": "code",
   "execution_count": 8,
   "metadata": {},
   "outputs": [],
   "source": [
    "# parameter setup\n",
    "models=['bg','fg']\n",
    "zs=[8]"
   ]
  },
  {
   "attachments": {},
   "cell_type": "markdown",
   "metadata": {},
   "source": [
    "### read and plot galaxy Muv-Rbub bubble list"
   ]
  },
  {
   "cell_type": "code",
   "execution_count": 11,
   "metadata": {},
   "outputs": [],
   "source": [
    "muvbublist={} # dictionary to store the bubble lists\n",
    "for mod in models: # loop over reionization models\n",
    "    muvbublist[mod]={} \n",
    "    for z in zs: # loop over redshifts\n",
    "        muvbublist[mod][str(z)]={} \n",
    "        boxdir=vars()['dir_'+mod+'_z'+str(z)+'_muv']\n",
    "        boxfils=np.sort(os.listdir(boxdir))\n",
    "\n",
    "        for i,fil in enumerate(boxfils):\n",
    "            ind=fil.find('nf')\n",
    "            xHI=np.round(float(fil[ind+2:ind+6]),1)\n",
    "            #print('reading model '+mod+', z='+str(z)+', xHI='+str(xHI))\n",
    "            data=pd.read_csv(boxdir+fil)\n",
    "            muvbublist[mod][str(z)][str(xHI)]=pd.DataFrame(data=np.vstack((data['Muv'],data['R_cMpc'])).T, columns=['Muv','R_cMpc'])"
   ]
  },
  {
   "attachments": {},
   "cell_type": "markdown",
   "metadata": {},
   "source": [
    "#### Plot bubble size distribution for xHI=0.5, Muv=-18 galaxies "
   ]
  },
  {
   "cell_type": "code",
   "execution_count": 12,
   "metadata": {},
   "outputs": [
    {
     "data": {
      "text/plain": [
       "Text(0, 0.5, 'Bubble size distribution, $\\\\mathrm{dP/dlogR}$')"
      ]
     },
     "execution_count": 12,
     "metadata": {},
     "output_type": "execute_result"
    },
    {
     "data": {
      "image/png": "[encoded data removed]",
      "text/plain": [
       "<Figure size 432x432 with 1 Axes>"
      ]
     },
     "metadata": {
      "needs_background": "light"
     },
     "output_type": "display_data"
    }
   ],
   "source": [
    "z=8\n",
    "xHI=0.5\n",
    "mod='fg' # gradual reionization model\n",
    "\n",
    "df=muvbublist[mod][str(z)][str(xHI)]\n",
    "Muvs=df.Muv \n",
    "Rbubs=df.R_cMpc\n",
    "bins=np.logspace(np.log10(0.8),np.log10(1.1*np.max(Rbubs)),8) # define the bins for the histogram\n",
    "\n",
    "Rbub18=Rbubs[(Muvs>-18.1)&(Muvs<-17.9)] # select the bubble list for Muv=-18\n",
    "\n",
    "\n",
    "\n",
    "PRhist, Rhistedge =np.histogram(Rbub18,density=True,bins=bins)  # calculate the histogram\n",
    "Rhist=0.5*(Rhistedge[:-1] + Rhistedge[1:]) # calculate the bin centers\n",
    "yy=PRhist*Rhist # calculate the y values for the dP/dlogR plot\n",
    "\n",
    "PlogR_norm=yy/np.trapz(yy,x=Rhist) # normalize the distribution\n",
    "\n",
    "# plot the distribution\n",
    "plt.figure(figsize=(6,6))\n",
    "plt.plot(Rhist,PlogR_norm)\n",
    "plt.xscale('log')\n",
    "plt.yscale('log')\n",
    "plt.xlabel(r'Bubble size, R [cMpc]')\n",
    "plt.ylabel(r'Bubble size distribution, $\\mathrm{dP/dlogR}$')\n"
   ]
  },
  {
   "cell_type": "markdown",
   "metadata": {},
   "source": [
    "## read overdensity bubble list"
   ]
  },
  {
   "cell_type": "code",
   "execution_count": 14,
   "metadata": {},
   "outputs": [],
   "source": [
    "odbublist={} # dictionary to store the bubble lists\n",
    "for mod in models: # loop over reionization models\n",
    "    odbublist[mod]={} \n",
    "    for z in zs: # loop over redshifts\n",
    "        odbublist[mod][str(z)]={} \n",
    "        boxdir=vars()['dir_'+mod+'_z'+str(z)+'_od']\n",
    "        boxfils=np.sort(os.listdir(boxdir))\n",
    "\n",
    "        for i,fil in enumerate(boxfils):\n",
    "            ind=fil.find('nf')\n",
    "            xHI=np.round(float(fil[ind+2:ind+6]),1)\n",
    "            #print('reading model '+mod+', z='+str(z)+', xHI='+str(xHI))\n",
    "            data=pd.read_csv(boxdir+fil)\n",
    "            odbublist[mod][str(z)][str(xHI)]=pd.DataFrame(data=np.vstack((data['Overdensity'],data['R_cMpc'])).T, columns=['Overdensity','R_cMpc'])"
   ]
  },
  {
   "attachments": {},
   "cell_type": "markdown",
   "metadata": {},
   "source": [
    "### plot overdensity distribution"
   ]
  },
  {
   "cell_type": "code",
   "execution_count": 15,
   "metadata": {},
   "outputs": [
    {
     "data": {
      "image/png": "[encoded data removed]",
      "text/plain": [
       "<Figure size 432x288 with 1 Axes>"
      ]
     },
     "metadata": {
      "needs_background": "light"
     },
     "output_type": "display_data"
    }
   ],
   "source": [
    "df=odbublist['fg']['8']['0.5']\n",
    "plt.hist(df.Overdensity)\n",
    "plt.xlabel('Overdensity, N/<N>')\n",
    "plt.ylabel('Count')\n",
    "plt.yscale('log')"
   ]
  },
  {
   "attachments": {},
   "cell_type": "markdown",
   "metadata": {},
   "source": [
    "## read full box bubble list "
   ]
  },
  {
   "cell_type": "code",
   "execution_count": 17,
   "metadata": {},
   "outputs": [],
   "source": [
    "fullbublist={} # dictionary to store the bubble lists\n",
    "for mod in models: # loop over reionization models\n",
    "    fullbublist[mod]={} \n",
    "    for z in zs: # loop over redshifts\n",
    "        fullbublist[mod][str(z)]={} \n",
    "        boxdir=vars()['dir_'+mod+'_z'+str(z)+'_rall']\n",
    "        boxfils=np.sort(os.listdir(boxdir))\n",
    "\n",
    "        for i,fil in enumerate(boxfils):\n",
    "            ind=fil.find('nf')\n",
    "            xHI=np.round(float(fil[ind+2:ind+6]),1)\n",
    "            #print('reading model '+mod+', z='+str(z)+', xHI='+str(xHI))\n",
    "            data=pd.read_csv(boxdir+fil)\n",
    "            fullbublist[mod][str(z)][str(xHI)]=pd.DataFrame(data=(data['R_cMpc']), columns=['R_cMpc'])"
   ]
  },
  {
   "cell_type": "markdown",
   "metadata": {},
   "source": [
    "### plot the bubble size distribution for the full box at xHI=0.5"
   ]
  },
  {
   "cell_type": "code",
   "execution_count": 48,
   "metadata": {},
   "outputs": [
    {
     "data": {
      "text/plain": [
       "Text(0, 0.5, 'Bubble size distribution, $\\\\mathrm{dP/dlogR}$')"
      ]
     },
     "execution_count": 48,
     "metadata": {},
     "output_type": "execute_result"
    },
    {
     "data": {
      "image/png": "[encoded data removed]",
      "text/plain": [
       "<Figure size 432x432 with 1 Axes>"
      ]
     },
     "metadata": {
      "needs_background": "light"
     },
     "output_type": "display_data"
    }
   ],
   "source": [
    "z=8\n",
    "xHI=0.5\n",
    "mod='fg' # gradual reionization model\n",
    "\n",
    "df=fullbublist[mod][str(z)][str(xHI)]\n",
    "Rbubs=df.R_cMpc\n",
    "bins=np.logspace(np.log10(0.8),np.log10(1.1*np.max(Rbubs)),8) # define the bins for the histogram\n",
    "\n",
    "\n",
    "PRhist, Rhistedge =np.histogram(Rbubs,density=True,bins=bins)  # calculate the histogram\n",
    "Rhist=0.5*(Rhistedge[:-1] + Rhistedge[1:]) # calculate the bin centers\n",
    "yy=PRhist*Rhist # calculate the y values for the dP/dlogR plot\n",
    "\n",
    "PlogR_norm=yy/np.trapz(yy,x=Rhist) # normalize the distribution\n",
    "\n",
    "# plot the distribution\n",
    "plt.figure(figsize=(6,6))\n",
    "plt.plot(Rhist,PlogR_norm)\n",
    "plt.xscale('log')\n",
    "plt.yscale('log')\n",
    "plt.xlabel(r'Bubble size, R [cMpc]')\n",
    "plt.ylabel(r'Bubble size distribution, $\\mathrm{dP/dlogR}$')"
   ]
  },
  {
   "cell_type": "markdown",
   "metadata": {},
   "source": [
    "#### plot R_b(xHI)"
   ]
  },
  {
   "cell_type": "code",
   "execution_count": 24,
   "metadata": {},
   "outputs": [
    {
     "data": {
      "image/png": "[encoded data removed]",
      "text/plain": [
       "<Figure size 432x432 with 1 Axes>"
      ]
     },
     "metadata": {
      "needs_background": "light"
     },
     "output_type": "display_data"
    }
   ],
   "source": [
    "z=8\n",
    "xHI_all=np.arange(0.1,1.0,0.1)\n",
    "\n",
    "\n",
    "R_xHI=np.zeros((len(xHI_all),2))\n",
    "for xHIi,xHI in enumerate(xHI_all):\n",
    "    for modi,mod in enumerate(['fg','bg']):\n",
    "        xHI=str(xHI)\n",
    "        df=fullbublist[mod][str(z)][str(xHI)[:3]]\n",
    "        Rbubs=df.R_cMpc\n",
    "        R_xHI[xHIi,modi]=np.mean(Rbubs[Rbubs>0])\n",
    "\n",
    "plt.figure(figsize=(6,6))\n",
    "\n",
    "y=[0.348, 0.410, 0.518, 0.598, 0.727, 0.833, 0.984, 1.097, 1.310, 1.444, 1.710, 1.900, 2.224, 2.451, 2.851, 3.148, 3.671, 4.047, 4.706, 5.155, 5.930, 6.559, 7.642, 8.422, 9.688, 10.713, 12.494, 13.866, 16.241, 18.087, 21.432, 23.832, 28.384, 32.122, 39.225, 44.402, 54.103, 64.780, 82.563, 97.707, 125.437, 152.324, 179.883, 205.681]\n",
    "x=np.asarray([0.207,0.221,0.242,0.258,0.280,0.296,0.317,0.331,0.356,0.370,0.395,0.411,0.436,0.452,0.477,0.493,0.519,0.536,0.561,0.578,0.602,0.620,0.646,0.663,0.687,0.704,0.730,0.747,0.772,0.789,0.814,0.829,0.852,0.867,0.891,0.906,0.921,0.935,0.950,0.962,0.972,0.979,0.986,0.990])\n",
    "plt.plot(1-x,y,label='Furlanetto & Oh 05',linewidth=6,alpha=0.9)\n",
    "\n",
    "plt.plot(xHI_all,R_xHI[:,0],linewidth=6,label='Gradual')\n",
    "plt.plot(xHI_all,R_xHI[:,1],linewidth=6,label='Rapid')\n",
    "plt.legend()\n",
    "plt.xlabel(r'$\\mathrm{x_{HI}}$')\n",
    "plt.ylabel(r'$\\mathrm{R_{bub}}$ [cMpc]')\n",
    "plt.yscale('log')\n"
   ]
  }
 ],
 "metadata": {
  "kernelspec": {
   "display_name": "reionizer_tyl",
   "language": "python",
   "name": "python3"
  },
  "language_info": {
   "codemirror_mode": {
    "name": "ipython",
    "version": 3
   },
   "file_extension": ".py",
   "mimetype": "text/x-python",
   "name": "python",
   "nbconvert_exporter": "python",
   "pygments_lexer": "ipython3",
   "version": "3.9.17"
  },
  "orig_nbformat": 4
 },
 "nbformat": 4,
 "nbformat_minor": 2
}
